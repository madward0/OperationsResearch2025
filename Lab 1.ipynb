{
 "cells": [
  {
   "cell_type": "code",
   "execution_count": 1,
   "id": "57f1800c-6c65-4361-8860-58eb72cdc8fa",
   "metadata": {},
   "outputs": [
    {
     "name": "stdin",
     "output_type": "stream",
     "text": [
      "Enter earnings:  100000\n"
     ]
    },
    {
     "name": "stdout",
     "output_type": "stream",
     "text": [
      "Your taxes owed are 17400.0\n"
     ]
    }
   ],
   "source": [
    "def tfunc(earnings):\n",
    "    if earnings <= 11000:\n",
    "        taxes = earnings * 0.1\n",
    "    elif earnings <= 44725:\n",
    "        taxes = 1100 + (earnings - 11000) * 0.12\n",
    "    elif earnings <= 95375:\n",
    "        taxes = 5147 + (earnings - 44725) * 0.22\n",
    "    elif earnings <= 182100:\n",
    "        taxes = 16290 + (earnings - 95375) * 0.24\n",
    "    elif earnings <= 231250:\n",
    "        taxes = 37104 + (earnings - 182100) * 0.32\n",
    "    elif earnings <= 578125:\n",
    "        taxes = 52832 + (earnings - 231250) * 0.35\n",
    "    elif earnings >= 578126:\n",
    "        taxes = 174238.25 + (earnings - 578125) * 0.37\n",
    "    return taxes\n",
    "tinput = float(input(\"Enter earnings: \"))\n",
    "print(\"Your taxes owed are\", tfunc(tinput))"
   ]
  },
  {
   "cell_type": "code",
   "execution_count": 1,
   "id": "60fe452d-0ab1-470e-93a0-b8999acbcf4c",
   "metadata": {},
   "outputs": [
    {
     "name": "stdout",
     "output_type": "stream",
     "text": [
      "h\t\t(ln(1+h) - ln(1))/h\n",
      "1.0000000000\t0.6931471806\n",
      "0.1000000000\t0.9531017980\n",
      "0.0010000000\t0.9995003331\n",
      "0.0020000000\t0.9990013313\n",
      "0.0001000000\t0.9999500033\n",
      "0.0000000001\t1.0000000827\n"
     ]
    }
   ],
   "source": [
    "import math\n",
    "\n",
    "h = [1, 0.1, 0.001, 0.002, 0.0001, 0.0000000001]\n",
    "\n",
    "print(\"h\\t\\t(ln(1+h) - ln(1))/h\")\n",
    "for value in h:\n",
    "    diff_quotient = (math.log(1 + value) - math.log(1)) / value\n",
    "    print(f\"{value:.10f}\\t{diff_quotient:.10f}\")"
   ]
  },
  {
   "cell_type": "code",
   "execution_count": 3,
   "id": "c2bba639-67f5-4e37-bf54-cf1b784297e4",
   "metadata": {},
   "outputs": [
    {
     "name": "stdout",
     "output_type": "stream",
     "text": [
      "n = 1, formula = 1\n",
      "n = 2, formula = 9\n",
      "n = 3, formula = 36\n",
      "n = 4, formula = 100\n",
      "n = 5, formula = 225\n",
      "n = 6, formula = 441\n",
      "n = 7, formula = 784\n",
      "n = 8, formula = 1296\n",
      "n = 9, formula = 2025\n",
      "n = 10, formula = 3025\n"
     ]
    }
   ],
   "source": [
    "def formula(n):\n",
    "    return (n**2 * (n+1)**2) // 4\n",
    "\n",
    "for n in range(1, 11):\n",
    "    print(f\"n = {n}, formula = {formula(n)}\")\n"
   ]
  },
  {
   "cell_type": "code",
   "execution_count": null,
   "id": "a5105f2e-9bdd-45bd-aeb6-7c2b34bf976e",
   "metadata": {},
   "outputs": [],
   "source": []
  }
 ],
 "metadata": {
  "kernelspec": {
   "display_name": "Python 3 (ipykernel)",
   "language": "python",
   "name": "python3"
  },
  "language_info": {
   "codemirror_mode": {
    "name": "ipython",
    "version": 3
   },
   "file_extension": ".py",
   "mimetype": "text/x-python",
   "name": "python",
   "nbconvert_exporter": "python",
   "pygments_lexer": "ipython3",
   "version": "3.13.5"
  }
 },
 "nbformat": 4,
 "nbformat_minor": 5
}
