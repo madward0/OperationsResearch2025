{
 "cells": [
  {
   "cell_type": "markdown",
   "id": "41a13769-f56f-4a90-b66d-cb317a5b1a0f",
   "metadata": {},
   "source": [
    "## Madison Ward Lab 2\n",
    "### Factorials"
   ]
  },
  {
   "cell_type": "code",
   "execution_count": 1,
   "id": "fdf6537e-989d-4507-bedd-ec1166572e24",
   "metadata": {},
   "outputs": [
    {
     "name": "stdout",
     "output_type": "stream",
     "text": [
      "249\n"
     ]
    }
   ],
   "source": [
    "def trailing_zeros_factorial(n):\n",
    "    count = 0\n",
    "    i = 5\n",
    "    while n // i > 0:\n",
    "        count += n // i\n",
    "        i *= 5\n",
    "    return count\n",
    "\n",
    "print(trailing_zeros_factorial(1000))"
   ]
  },
  {
   "cell_type": "markdown",
   "id": "5bc3f897-5a29-4a9c-95ec-bf81d90dc3bd",
   "metadata": {},
   "source": [
    "### Big Numbers"
   ]
  },
  {
   "cell_type": "code",
   "execution_count": 3,
   "id": "f9b52c2f-b93a-4e0a-9bb0-10185ae4bb80",
   "metadata": {},
   "outputs": [
    {
     "name": "stdout",
     "output_type": "stream",
     "text": [
      "99999999999999999999999974\n",
      "The sum of the digits is 227\n"
     ]
    }
   ],
   "source": [
    "number = 100**13 - 26\n",
    "print(number)\n",
    "digit_sum = sum(int(digit) for digit in str(number))\n",
    "print(f\"The sum of the digits is {digit_sum}\")"
   ]
  },
  {
   "cell_type": "markdown",
   "id": "1a74a590-955b-499c-acfd-7b7abd0fa2af",
   "metadata": {},
   "source": [
    "### Handshakes"
   ]
  },
  {
   "cell_type": "code",
   "execution_count": 5,
   "id": "b9edcfb2-368e-4c1c-8b43-9bdda0755777",
   "metadata": {},
   "outputs": [
    {
     "name": "stdout",
     "output_type": "stream",
     "text": [
      "176.0 handshakes\n"
     ]
    }
   ],
   "source": [
    "y = (11 * 11) + ((11 * 10) / 2)\n",
    "print(f\"{y} handshakes\")"
   ]
  },
  {
   "cell_type": "markdown",
   "id": "19dc5734-029f-4c73-8c8a-dbfb5d6541c5",
   "metadata": {},
   "source": [
    "### Harder Handshakes\n",
    "There are 10 people at the party and nobody shakes their spouse's hand, or has shaken hands with somebody twice. This means the most handshakes one person will have is 8. \n",
    "So, Mr. Smith has shaken hands at most 8 times."
   ]
  },
  {
   "cell_type": "code",
   "execution_count": null,
   "id": "c6cbd13d-0e16-491f-84e7-4e8377051108",
   "metadata": {},
   "outputs": [],
   "source": []
  }
 ],
 "metadata": {
  "kernelspec": {
   "display_name": "Python 3 (ipykernel)",
   "language": "python",
   "name": "python3"
  },
  "language_info": {
   "codemirror_mode": {
    "name": "ipython",
    "version": 3
   },
   "file_extension": ".py",
   "mimetype": "text/x-python",
   "name": "python",
   "nbconvert_exporter": "python",
   "pygments_lexer": "ipython3",
   "version": "3.13.5"
  }
 },
 "nbformat": 4,
 "nbformat_minor": 5
}
