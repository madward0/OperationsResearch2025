{
 "cells": [
  {
   "cell_type": "markdown",
   "id": "54aca456-f67f-431b-b8db-8a130abd136b",
   "metadata": {},
   "source": [
    "## Madison Ward\n",
    "## Operations Research, Fall 2025\n",
    "### Lab 0\n",
    "---"
   ]
  },
  {
   "cell_type": "markdown",
   "id": "1e29fdad-6f57-47b0-ac0a-ac48566c9385",
   "metadata": {},
   "source": [
    "## My Favorite Function\n",
    "The Fibonacci sequence is one of my favorite functions because can be seen everywhere. It can be found in nature and art, like the pattern of seeds in a sunflower, seashells, and the arrangement of leaves on a stem. It is very versatile and can even be used in financial markets. \n",
    "The formula is:  \n",
    "\\[\n",
    "F(n) = F(n-1) + F(n-2)\n",
    "\\]\n",
    "with base cases \\( F(0) = 0 \\) and \\( F(1) = 1 \\).\n"
   ]
  },
  {
   "cell_type": "code",
   "execution_count": 1,
   "id": "e0e571ee-1835-4da1-9a0f-95d0ad1b57d6",
   "metadata": {},
   "outputs": [
    {
     "name": "stdout",
     "output_type": "stream",
     "text": [
      "F(0) = 0\n",
      "F(1) = 1\n",
      "F(3) = 2\n",
      "F(5) = 5\n",
      "F(7) = 13\n",
      "F(10) = 55\n",
      "F(12) = 144\n",
      "F(15) = 610\n",
      "F(20) = 6765\n",
      "F(22) = 17711\n"
     ]
    }
   ],
   "source": [
    "list = []\n",
    "def fibonacci(n):\n",
    "    if n <= 0:\n",
    "        return 0\n",
    "    elif n == 1:\n",
    "        return 1\n",
    "    else:\n",
    "        return fibonacci(n-1) + fibonacci(n-2)\n",
    "\n",
    "print(\"F(0) =\", fibonacci(0)) \n",
    "list.append(fibonacci(0))\n",
    "print(\"F(1) =\", fibonacci(1)) \n",
    "list.append(fibonacci(1))\n",
    "print(\"F(3) =\", fibonacci(3)) \n",
    "list.append(fibonacci(3))\n",
    "print(\"F(5) =\", fibonacci(5)) \n",
    "list.append(fibonacci(5))\n",
    "print(\"F(7) =\", fibonacci(7)) \n",
    "list.append(fibonacci(7))\n",
    "print(\"F(10) =\", fibonacci(10)) \n",
    "list.append(fibonacci(10))\n",
    "print(\"F(12) =\", fibonacci(12)) \n",
    "list.append(fibonacci(12))\n",
    "print(\"F(15) =\", fibonacci(15)) \n",
    "list.append(fibonacci(15))\n",
    "print(\"F(20) =\", fibonacci(20)) \n",
    "list.append(fibonacci(20))\n",
    "print(\"F(22) =\", fibonacci(22)) \n",
    "list.append(fibonacci(22))"
   ]
  },
  {
   "cell_type": "markdown",
   "id": "eaf3e9ef-fea6-4c60-8632-034d6712ff67",
   "metadata": {},
   "source": [
    "## List of Numbers\n",
    "\n",
    "I created my list using the first 10 fibonacci numbers.   \n",
    "The Fibonacci sequence starts with 0 and 1, and each new number is the sum of the two before it.    \n",
    "I’ll use this list to compute:  \n",
    "- The sum of the numbers  \n",
    "- The minimum value  \n",
    "- The maximum value  \n",
    "- The average (mean) value\n",
    "---"
   ]
  },
  {
   "cell_type": "code",
   "execution_count": 3,
   "id": "405e3444-be6c-4848-9b28-235d1fa47bc0",
   "metadata": {},
   "outputs": [
    {
     "name": "stdout",
     "output_type": "stream",
     "text": [
      "Fibonacci List: [0, 1, 1, 2, 3, 5, 8, 13, 21, 34]\n",
      "Sum: 88\n",
      "Minimum: 0\n",
      "Maximum: 34\n",
      "Average: 8.8\n"
     ]
    }
   ],
   "source": [
    "def fibonacci(n):\n",
    "    if n <= 0:\n",
    "        return 0\n",
    "    elif n == 1:\n",
    "        return 1\n",
    "    else:\n",
    "        return fibonacci(n-1) + fibonacci(n-2)\n",
    "\n",
    "# Create a list of the first 10 Fibonacci numbers\n",
    "fib_list = [fibonacci(n) for n in range(10)]\n",
    "\n",
    "print(\"Fibonacci List:\", fib_list)\n",
    "\n",
    "# Compute required values\n",
    "print(\"Sum:\", sum(fib_list))\n",
    "print(\"Minimum:\", min(fib_list))\n",
    "print(\"Maximum:\", max(fib_list))\n",
    "print(\"Average:\", sum(fib_list) / len(fib_list))"
   ]
  },
  {
   "cell_type": "code",
   "execution_count": null,
   "id": "b666ae7d-332e-46c3-a79b-5a1252b0589a",
   "metadata": {},
   "outputs": [],
   "source": []
  }
 ],
 "metadata": {
  "kernelspec": {
   "display_name": "Python 3 (ipykernel)",
   "language": "python",
   "name": "python3"
  },
  "language_info": {
   "codemirror_mode": {
    "name": "ipython",
    "version": 3
   },
   "file_extension": ".py",
   "mimetype": "text/x-python",
   "name": "python",
   "nbconvert_exporter": "python",
   "pygments_lexer": "ipython3",
   "version": "3.13.5"
  }
 },
 "nbformat": 4,
 "nbformat_minor": 5
}
