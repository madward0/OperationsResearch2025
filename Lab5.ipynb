{
 "cells": [
  {
   "cell_type": "markdown",
   "id": "cd997e41-7d46-4442-b220-2c34fef938a2",
   "metadata": {},
   "source": [
    "## Lab 5 - Recursion"
   ]
  },
  {
   "cell_type": "markdown",
   "id": "c31e3870-1d93-4de1-963b-8799f966b926",
   "metadata": {},
   "source": [
    "### 1. Analytic Equation\n",
    "f(n)= 7f(n-1) - 10f(n-2)  f(0)=1  f(1)=3\n",
    "\n",
    "Characteristic Equation: r^2 = 7r - 10   =>   r^2 - 7r + 10=0 => (r-2) (r-5) = 0\n",
    "\n",
    "Roots: r(1) = 2  r(2) = 5\n",
    "\n",
    "General Solution: f(n) = A(5)^n + B(2)^n find A and B!\n",
    "\n",
    "System of equations f(0) = A + B = 1  and  f(1) = 5A + 2B = 3 solve using elimination\n",
    "\n",
    "A = 1/3 and B = 2/3\n",
    "\n",
    "Final solution: f(n) = 1/3(5)^n + 2/3(2)^n"
   ]
  },
  {
   "cell_type": "code",
   "execution_count": 15,
   "id": "cbb79e8e-8ef3-41a5-baf5-a4d1e75d1e25",
   "metadata": {},
   "outputs": [
    {
     "name": "stdout",
     "output_type": "stream",
     "text": [
      "1063\n"
     ]
    }
   ],
   "source": [
    "def f(n):\n",
    "    if n == 0:\n",
    "        return 1\n",
    "    elif n== 1:\n",
    "        return 3\n",
    "    else:\n",
    "        return 7*f(n-1)-10*f(n-2)\n",
    "\n",
    "print(f(5))"
   ]
  },
  {
   "cell_type": "code",
   "execution_count": 18,
   "id": "33552240-6a3d-4bb3-bd57-dfdf5b36589d",
   "metadata": {},
   "outputs": [
    {
     "name": "stdout",
     "output_type": "stream",
     "text": [
      "1063\n"
     ]
    }
   ],
   "source": [
    "def memo(n):\n",
    "    if n == (0):\n",
    "        return 1\n",
    "    elif n == 1:\n",
    "        return 3\n",
    "    else:\n",
    "        l = [0]*(n+1)\n",
    "        l[0] = 1\n",
    "        l[1] = 3\n",
    "        for i in range (2,n+1):\n",
    "            l[i] = 7*l[i-1]-10*l[i-2]\n",
    "        return l[-1]\n",
    "print(f(5))"
   ]
  },
  {
   "cell_type": "markdown",
   "id": "e0f8dcca-6c65-4621-b8d9-f6074e8b8612",
   "metadata": {},
   "source": [
    "The analytical method is probably the most efficient since it uses one formula, especially for large values of n, but the math can be quite difficult. Finding the 1000th value would be quite easy since you can just plug it into the equation.\n",
    "\n",
    "The dynamic coding method is good becuase it is quick and easy code, but it is not good for large values of n. It would take a long time to find the 1000th value since it has to recalculate the values every time.\n",
    "\n",
    "The memoization method is efficient since it uses a loop instead of recomputing the values. "
   ]
  }
 ],
 "metadata": {
  "kernelspec": {
   "display_name": "Python 3 (ipykernel)",
   "language": "python",
   "name": "python3"
  },
  "language_info": {
   "codemirror_mode": {
    "name": "ipython",
    "version": 3
   },
   "file_extension": ".py",
   "mimetype": "text/x-python",
   "name": "python",
   "nbconvert_exporter": "python",
   "pygments_lexer": "ipython3",
   "version": "3.13.5"
  }
 },
 "nbformat": 4,
 "nbformat_minor": 5
}
